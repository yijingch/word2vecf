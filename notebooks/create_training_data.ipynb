{
 "cells": [
  {
   "cell_type": "markdown",
   "metadata": {},
   "source": [
    "# create training data for community embedding training"
   ]
  },
  {
   "cell_type": "code",
   "execution_count": 11,
   "metadata": {},
   "outputs": [],
   "source": [
    "import os\n",
    "import csv\n",
    "import pandas as pd\n",
    "import sqlite3"
   ]
  },
  {
   "cell_type": "markdown",
   "metadata": {},
   "source": [
    "\n",
    "> I used my own code to create the training data, `wv` and `cv` files. The first file (they call `dep.contexts`) is just space delimited subreddit user pairs as you've already generated. The `wv` (word vocab file) is counts of each 'word', so for example if the subreddit `AskReddit` appears 100000 times in `dep.contexts`, it should contain \"AskReddit 100000\". And the cv file is the same but for contexts (users), so for a user `isaacwaller` that appears 100 times it would contain \"isaacwaller 100\". In pseudocode:"
   ]
  },
  {
   "cell_type": "markdown",
   "metadata": {},
   "source": [
    "## load data"
   ]
  },
  {
   "cell_type": "code",
   "execution_count": 12,
   "metadata": {},
   "outputs": [],
   "source": [
    "ROOT_PATH = os.getcwd()[:-19]\n",
    "DBPATH = ROOT_PATH + \"topic-model-reddit/data/reddit-db-preprocessed.db\"\n",
    "conn = sqlite3.connect(DBPATH)\n",
    "cur = conn.cursor()\n",
    "\n",
    "skipped_subr = [\"politics\", \"the_donald\", \"chapotraphouse\", \"neoliberal\"]\n",
    "import warnings\n",
    "warnings.filterwarnings('ignore')"
   ]
  },
  {
   "cell_type": "code",
   "execution_count": 15,
   "metadata": {},
   "outputs": [],
   "source": [
    "def build_subm_df(year):\n",
    "    print(\"  fetching submissions...\")\n",
    "    qr = f\"SELECT id, author, subreddit FROM 'submission-{year}' \"\n",
    "    qr += f\"WHERE subreddit != '{skipped_subr[0]}' \"\n",
    "    qr += f\"AND subreddit != '{skipped_subr[1]}' \"\n",
    "    qr += f\"AND subreddit != '{skipped_subr[2]}' \"\n",
    "    qr += f\"AND subreddit != '{skipped_subr[3]}' \"\n",
    "    qr += f\"AND author != '[deleted]' \"\n",
    "    df = pd.read_sql_query(qr, conn)\n",
    "    return df\n",
    "\n",
    "def build_comm_df(year):\n",
    "    print(\"  fetching comments...\")\n",
    "    qr = f\"SELECT link_id, author, subreddit FROM 'comment-{year}' \"\n",
    "    qr += f\"WHERE subreddit != '{skipped_subr[0]}' \"\n",
    "    qr += f\"AND subreddit != '{skipped_subr[1]}' \"\n",
    "    qr += f\"AND subreddit != '{skipped_subr[2]}' \"\n",
    "    qr += f\"AND subreddit != '{skipped_subr[3]}' \"\n",
    "    qr += f\"AND author != '[deleted]' \"\n",
    "    df = pd.read_sql_query(qr, conn)\n",
    "    df[\"link_id\"] = df[\"link_id\"].map(lambda x: x[3:])\n",
    "    return df\n",
    "\n",
    "def build_df_year(year):\n",
    "    print(f\"building base dataframe for year {year}\")\n",
    "    subm_df = build_subm_df(year)\n",
    "    comm_df = build_comm_df(year)\n",
    "    df_year = pd.concat([subm_df,comm_df])\n",
    "    return df_year"
   ]
  },
  {
   "cell_type": "code",
   "execution_count": 27,
   "metadata": {},
   "outputs": [],
   "source": [
    "def create_training_data(df_year):\n",
    "    \n",
    "    fpath = ROOT_PATH + \"/word\"\n",
    "    \n",
    "    # dep.contexts\n",
    "    print(\"producing dep.contexts...\")\n",
    "    df_2013[[\"author\", \"subreddit\"]].to_csv(\"dep.contexts\", sep=\" \", index=False, header=None)\n",
    "    \n",
    "    # context --> user\n",
    "    print(\"producing cv.txt...\")\n",
    "    df_2013[[\"author\", \"subreddit\"]].groupby(\"author\").count().to_csv(\"cv.txt\", sep=\" \", header=None)\n",
    "    \n",
    "    # word --> subreddit\n",
    "    print(\"producing wv.txt...\")\n",
    "    df_2013[[\"author\", \"subreddit\"]].groupby(\"subreddit\").count().to_csv(\"wv.txt\", sep=\" \", header=None)"
   ]
  },
  {
   "cell_type": "code",
   "execution_count": 16,
   "metadata": {},
   "outputs": [
    {
     "name": "stdout",
     "output_type": "stream",
     "text": [
      "building base dataframe for year 2013\n",
      "  fetching submissions...\n",
      "  fetching comments...\n"
     ]
    }
   ],
   "source": [
    "df_2013 = build_df_year(2013)"
   ]
  },
  {
   "cell_type": "code",
   "execution_count": 28,
   "metadata": {},
   "outputs": [
    {
     "name": "stdout",
     "output_type": "stream",
     "text": [
      "producing dep.contexts...\n",
      "producing cv.txt...\n",
      "producing wv.txt...\n"
     ]
    }
   ],
   "source": [
    "create_training_data(df_2013)"
   ]
  },
  {
   "cell_type": "code",
   "execution_count": null,
   "metadata": {},
   "outputs": [],
   "source": []
  }
 ],
 "metadata": {
  "kernelspec": {
   "display_name": "Python 3",
   "language": "python",
   "name": "python3"
  },
  "language_info": {
   "codemirror_mode": {
    "name": "ipython",
    "version": 3
   },
   "file_extension": ".py",
   "mimetype": "text/x-python",
   "name": "python",
   "nbconvert_exporter": "python",
   "pygments_lexer": "ipython3",
   "version": "3.7.7"
  },
  "toc": {
   "base_numbering": 1,
   "nav_menu": {},
   "number_sections": true,
   "sideBar": true,
   "skip_h1_title": false,
   "title_cell": "Table of Contents",
   "title_sidebar": "Contents",
   "toc_cell": false,
   "toc_position": {},
   "toc_section_display": true,
   "toc_window_display": false
  }
 },
 "nbformat": 4,
 "nbformat_minor": 4
}
